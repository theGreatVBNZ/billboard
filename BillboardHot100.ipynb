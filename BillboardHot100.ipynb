{
 "cells": [
  {
   "cell_type": "markdown",
   "metadata": {},
   "source": [
    "Датасет по лучшим трекам года по версии Billboard"
   ]
  },
  {
   "cell_type": "code",
   "execution_count": 276,
   "metadata": {},
   "outputs": [],
   "source": [
    "import requests\n",
    "import json\n",
    "from bs4 import BeautifulSoup\n",
    "from IPython.display import display\n",
    "\n",
    "import pandas as pd"
   ]
  },
  {
   "cell_type": "code",
   "execution_count": 142,
   "metadata": {},
   "outputs": [],
   "source": [
    "def billboard_chart_page(year):\n",
    "    url = 'https://www.billboard.com/charts/year-end/{year}/hot-100-songs'.format(year=year)\n",
    "    response = requests.get(url)\n",
    "    content = response.content.decode()\n",
    "    return content"
   ]
  },
  {
   "cell_type": "code",
   "execution_count": 143,
   "metadata": {},
   "outputs": [],
   "source": [
    "def parse_billboard(content):\n",
    "    page = BeautifulSoup(content, 'lxml')\n",
    "    artists = [tag.get_text().strip() for tag in page.body.find_all('div', class_='ye-chart-item__artist')]\n",
    "    songs = [tag.get_text().strip() for tag in page.body.find_all('div', class_='ye-chart-item__title')]\n",
    "    return artists, songs"
   ]
  },
  {
   "cell_type": "code",
   "execution_count": 144,
   "metadata": {},
   "outputs": [],
   "source": [
    "def track_list(artists, songs):\n",
    "    return ['{} - {}'.format(artist, song) for artist, song in zip(artists, songs)]"
   ]
  },
  {
   "cell_type": "markdown",
   "metadata": {},
   "source": [
    "Извлекаем названия всех треков"
   ]
  },
  {
   "cell_type": "code",
   "execution_count": 145,
   "metadata": {},
   "outputs": [],
   "source": [
    "available_years = range(2007, 2018)\n",
    "tracks = dict().fromkeys(available_years)\n",
    "for year in available_years:\n",
    "    tracks[year] = track_list(*parse_billboard(billboard_chart_page(year)))"
   ]
  },
  {
   "cell_type": "markdown",
   "metadata": {},
   "source": [
    "В 2011 году почему-то выкачиваются 99 треков, добавим пустой трек"
   ]
  },
  {
   "cell_type": "code",
   "execution_count": 146,
   "metadata": {},
   "outputs": [
    {
     "data": {
      "text/plain": [
       "[(2007, 100),\n",
       " (2008, 100),\n",
       " (2009, 100),\n",
       " (2010, 100),\n",
       " (2011, 99),\n",
       " (2012, 100),\n",
       " (2013, 100),\n",
       " (2014, 100),\n",
       " (2015, 100),\n",
       " (2016, 100),\n",
       " (2017, 100)]"
      ]
     },
     "metadata": {},
     "output_type": "display_data"
    }
   ],
   "source": [
    "display([(k, len(v)) for k, v in tracks.items()])\n",
    "if len(tracks[2011]) < 100:\n",
    "    tracks[2011].append('')"
   ]
  },
  {
   "cell_type": "code",
   "execution_count": 147,
   "metadata": {},
   "outputs": [
    {
     "data": {
      "text/html": [
       "<div>\n",
       "<style scoped>\n",
       "    .dataframe tbody tr th:only-of-type {\n",
       "        vertical-align: middle;\n",
       "    }\n",
       "\n",
       "    .dataframe tbody tr th {\n",
       "        vertical-align: top;\n",
       "    }\n",
       "\n",
       "    .dataframe thead th {\n",
       "        text-align: right;\n",
       "    }\n",
       "</style>\n",
       "<table border=\"1\" class=\"dataframe\">\n",
       "  <thead>\n",
       "    <tr style=\"text-align: right;\">\n",
       "      <th></th>\n",
       "      <th>2007</th>\n",
       "      <th>2008</th>\n",
       "      <th>2009</th>\n",
       "      <th>2010</th>\n",
       "      <th>2011</th>\n",
       "      <th>2012</th>\n",
       "      <th>2013</th>\n",
       "      <th>2014</th>\n",
       "      <th>2015</th>\n",
       "      <th>2016</th>\n",
       "      <th>2017</th>\n",
       "    </tr>\n",
       "  </thead>\n",
       "  <tbody>\n",
       "    <tr>\n",
       "      <th>0</th>\n",
       "      <td>Beyonce - Irreplaceable</td>\n",
       "      <td>Flo Rida Featuring T-Pain - Low</td>\n",
       "      <td>The Black Eyed Peas - Boom Boom Pow</td>\n",
       "      <td>Ke$ha - TiK ToK</td>\n",
       "      <td>Adele - Rolling In The Deep</td>\n",
       "      <td>Gotye Featuring Kimbra - Somebody That I Used ...</td>\n",
       "      <td>Macklemore &amp; Ryan Lewis Featuring Wanz - Thrif...</td>\n",
       "      <td>Pharrell Williams - Happy</td>\n",
       "      <td>Mark Ronson Featuring Bruno Mars - Uptown Funk!</td>\n",
       "      <td>Justin Bieber - Love Yourself</td>\n",
       "      <td>Ed Sheeran - Shape Of You</td>\n",
       "    </tr>\n",
       "    <tr>\n",
       "      <th>1</th>\n",
       "      <td>Rihanna Featuring Jay-Z - Umbrella</td>\n",
       "      <td>Leona Lewis - Bleeding Love</td>\n",
       "      <td>Lady Gaga - Poker Face</td>\n",
       "      <td>Lady Antebellum - Need You Now</td>\n",
       "      <td>LMFAO Featuring Lauren Bennett &amp; GoonRock - Pa...</td>\n",
       "      <td>Carly Rae Jepsen - Call Me Maybe</td>\n",
       "      <td>Robin Thicke Featuring T.I. + Pharrell - Blurr...</td>\n",
       "      <td>Katy Perry Featuring Juicy J - Dark Horse</td>\n",
       "      <td>Ed Sheeran - Thinking Out Loud</td>\n",
       "      <td>Justin Bieber - Sorry</td>\n",
       "      <td>Luis Fonsi &amp; Daddy Yankee Featuring Justin Bie...</td>\n",
       "    </tr>\n",
       "    <tr>\n",
       "      <th>2</th>\n",
       "      <td>Gwen Stefani Featuring Akon - The Sweet Escape</td>\n",
       "      <td>Alicia Keys - No One</td>\n",
       "      <td>Lady Gaga Featuring Colby O'Donis - Just Dance</td>\n",
       "      <td>Train - Hey, Soul Sister</td>\n",
       "      <td>Katy Perry - Firework</td>\n",
       "      <td>fun. Featuring Janelle Monae - We Are Young</td>\n",
       "      <td>Imagine Dragons - Radioactive</td>\n",
       "      <td>John Legend - All Of Me</td>\n",
       "      <td>Wiz Khalifa Featuring Charlie Puth - See You A...</td>\n",
       "      <td>Drake Featuring WizKid &amp; Kyla - One Dance</td>\n",
       "      <td>Bruno Mars - That's What I Like</td>\n",
       "    </tr>\n",
       "    <tr>\n",
       "      <th>3</th>\n",
       "      <td>Fergie - Big Girls Don't Cry</td>\n",
       "      <td>Lil Wayne Featuring Static Major - Lollipop</td>\n",
       "      <td>The Black Eyed Peas - I Gotta Feeling</td>\n",
       "      <td>Katy Perry Featuring Snoop Dogg - California G...</td>\n",
       "      <td>Katy Perry Featuring Kanye West - E.T.</td>\n",
       "      <td>Maroon 5 Featuring Wiz Khalifa - Payphone</td>\n",
       "      <td>Baauer - Harlem Shake</td>\n",
       "      <td>Iggy Azalea Featuring Charli XCX - Fancy</td>\n",
       "      <td>Fetty Wap - Trap Queen</td>\n",
       "      <td>Rihanna Featuring Drake - Work</td>\n",
       "      <td>Kendrick Lamar - Humble.</td>\n",
       "    </tr>\n",
       "    <tr>\n",
       "      <th>4</th>\n",
       "      <td>T-Pain Featuring Yung Joc - Buy U A Drank (Sha...</td>\n",
       "      <td>Timbaland Featuring OneRepublic - Apologize</td>\n",
       "      <td>Taylor Swift - Love Story</td>\n",
       "      <td>Usher Featuring will.i.am - OMG</td>\n",
       "      <td>Pitbull Featuring Ne-Yo, Afrojack &amp; Nayer - Gi...</td>\n",
       "      <td>Ellie Goulding - Lights</td>\n",
       "      <td>Macklemore &amp; Ryan Lewis Featuring Ray Dalton -...</td>\n",
       "      <td>OneRepublic - Counting Stars</td>\n",
       "      <td>Maroon 5 - Sugar</td>\n",
       "      <td>twenty one pilots - Stressed Out</td>\n",
       "      <td>The Chainsmokers &amp; Coldplay - Something Just L...</td>\n",
       "    </tr>\n",
       "  </tbody>\n",
       "</table>\n",
       "</div>"
      ],
      "text/plain": [
       "                                                2007  \\\n",
       "0                            Beyonce - Irreplaceable   \n",
       "1                 Rihanna Featuring Jay-Z - Umbrella   \n",
       "2     Gwen Stefani Featuring Akon - The Sweet Escape   \n",
       "3                       Fergie - Big Girls Don't Cry   \n",
       "4  T-Pain Featuring Yung Joc - Buy U A Drank (Sha...   \n",
       "\n",
       "                                          2008  \\\n",
       "0              Flo Rida Featuring T-Pain - Low   \n",
       "1                  Leona Lewis - Bleeding Love   \n",
       "2                         Alicia Keys - No One   \n",
       "3  Lil Wayne Featuring Static Major - Lollipop   \n",
       "4  Timbaland Featuring OneRepublic - Apologize   \n",
       "\n",
       "                                             2009  \\\n",
       "0             The Black Eyed Peas - Boom Boom Pow   \n",
       "1                          Lady Gaga - Poker Face   \n",
       "2  Lady Gaga Featuring Colby O'Donis - Just Dance   \n",
       "3           The Black Eyed Peas - I Gotta Feeling   \n",
       "4                       Taylor Swift - Love Story   \n",
       "\n",
       "                                                2010  \\\n",
       "0                                    Ke$ha - TiK ToK   \n",
       "1                     Lady Antebellum - Need You Now   \n",
       "2                           Train - Hey, Soul Sister   \n",
       "3  Katy Perry Featuring Snoop Dogg - California G...   \n",
       "4                    Usher Featuring will.i.am - OMG   \n",
       "\n",
       "                                                2011  \\\n",
       "0                        Adele - Rolling In The Deep   \n",
       "1  LMFAO Featuring Lauren Bennett & GoonRock - Pa...   \n",
       "2                              Katy Perry - Firework   \n",
       "3             Katy Perry Featuring Kanye West - E.T.   \n",
       "4  Pitbull Featuring Ne-Yo, Afrojack & Nayer - Gi...   \n",
       "\n",
       "                                                2012  \\\n",
       "0  Gotye Featuring Kimbra - Somebody That I Used ...   \n",
       "1                   Carly Rae Jepsen - Call Me Maybe   \n",
       "2        fun. Featuring Janelle Monae - We Are Young   \n",
       "3          Maroon 5 Featuring Wiz Khalifa - Payphone   \n",
       "4                            Ellie Goulding - Lights   \n",
       "\n",
       "                                                2013  \\\n",
       "0  Macklemore & Ryan Lewis Featuring Wanz - Thrif...   \n",
       "1  Robin Thicke Featuring T.I. + Pharrell - Blurr...   \n",
       "2                      Imagine Dragons - Radioactive   \n",
       "3                              Baauer - Harlem Shake   \n",
       "4  Macklemore & Ryan Lewis Featuring Ray Dalton -...   \n",
       "\n",
       "                                        2014  \\\n",
       "0                  Pharrell Williams - Happy   \n",
       "1  Katy Perry Featuring Juicy J - Dark Horse   \n",
       "2                    John Legend - All Of Me   \n",
       "3   Iggy Azalea Featuring Charli XCX - Fancy   \n",
       "4               OneRepublic - Counting Stars   \n",
       "\n",
       "                                                2015  \\\n",
       "0    Mark Ronson Featuring Bruno Mars - Uptown Funk!   \n",
       "1                     Ed Sheeran - Thinking Out Loud   \n",
       "2  Wiz Khalifa Featuring Charlie Puth - See You A...   \n",
       "3                             Fetty Wap - Trap Queen   \n",
       "4                                   Maroon 5 - Sugar   \n",
       "\n",
       "                                        2016  \\\n",
       "0              Justin Bieber - Love Yourself   \n",
       "1                      Justin Bieber - Sorry   \n",
       "2  Drake Featuring WizKid & Kyla - One Dance   \n",
       "3             Rihanna Featuring Drake - Work   \n",
       "4           twenty one pilots - Stressed Out   \n",
       "\n",
       "                                                2017  \n",
       "0                          Ed Sheeran - Shape Of You  \n",
       "1  Luis Fonsi & Daddy Yankee Featuring Justin Bie...  \n",
       "2                    Bruno Mars - That's What I Like  \n",
       "3                           Kendrick Lamar - Humble.  \n",
       "4  The Chainsmokers & Coldplay - Something Just L...  "
      ]
     },
     "execution_count": 147,
     "metadata": {},
     "output_type": "execute_result"
    }
   ],
   "source": [
    "df_tracks = pd.DataFrame(tracks)\n",
    "df_tracks.head()"
   ]
  },
  {
   "cell_type": "markdown",
   "metadata": {},
   "source": [
    "Сохраняем промежуточный результат"
   ]
  },
  {
   "cell_type": "code",
   "execution_count": 277,
   "metadata": {},
   "outputs": [],
   "source": [
    "with open('tracks.json', 'w') as json_file:\n",
    "    json.dump(tracks, json_file, indent=4)"
   ]
  },
  {
   "cell_type": "markdown",
   "metadata": {},
   "source": [
    "Получаем URLы видео по запросу. Фильтруем дубликаты, сохраняя порядок"
   ]
  },
  {
   "cell_type": "code",
   "execution_count": 236,
   "metadata": {},
   "outputs": [],
   "source": [
    "def youtube_search(query):\n",
    "    response = requests.get(url='https://www.youtube.com/results', params=dict(search_query=query))\n",
    "    content = response.content.decode()\n",
    "    page = BeautifulSoup(content, 'lxml')\n",
    "    endpoints = list(\n",
    "        link['href'].replace('https://www.youtube.com', '').split('&')[0]\n",
    "        for link in page.body.find_all('a') \n",
    "        if '/watch?v=' in link['href']\n",
    "    )\n",
    "    unique_endpoints = OrderedDict.fromkeys(endpoints).keys()\n",
    "    video_urls = ['https://www.youtube.com{}'.format(endpoint) for endpoint in unique_endpoints]\n",
    "    return video_urls"
   ]
  },
  {
   "cell_type": "code",
   "execution_count": 266,
   "metadata": {},
   "outputs": [],
   "source": [
    "def find_video_clip(track):\n",
    "    video_urls = youtube_search(track)\n",
    "    if video_urls:\n",
    "        return video_urls[0]\n",
    "    else:\n",
    "        return None"
   ]
  },
  {
   "cell_type": "markdown",
   "metadata": {},
   "source": [
    "Youtube не отдает URLы, потому что забанил мою домашнюю сеть. Тут нужно прикрутить прокси, либо использовать иной ресурс для скачивания треков."
   ]
  },
  {
   "cell_type": "code",
   "execution_count": 267,
   "metadata": {},
   "outputs": [
    {
     "name": "stdout",
     "output_type": "stream",
     "text": [
      "Year: 2007\n",
      "The number of processed videos: 0\n",
      "The number of processed videos: 10\n",
      "The number of processed videos: 20\n",
      "The number of processed videos: 30\n",
      "The number of processed videos: 40\n",
      "The number of processed videos: 50\n",
      "The number of processed videos: 60\n",
      "The number of processed videos: 70\n",
      "The number of processed videos: 80\n",
      "The number of processed videos: 90\n",
      "Year: 2008\n",
      "The number of processed videos: 0\n",
      "The number of processed videos: 10\n",
      "The number of processed videos: 20\n",
      "The number of processed videos: 30\n",
      "The number of processed videos: 40\n",
      "The number of processed videos: 50\n",
      "The number of processed videos: 60\n",
      "The number of processed videos: 70\n",
      "The number of processed videos: 80\n",
      "The number of processed videos: 90\n",
      "Year: 2009\n",
      "The number of processed videos: 0\n",
      "The number of processed videos: 10\n",
      "The number of processed videos: 20\n",
      "The number of processed videos: 30\n",
      "The number of processed videos: 40\n",
      "The number of processed videos: 50\n",
      "The number of processed videos: 60\n",
      "The number of processed videos: 70\n",
      "The number of processed videos: 80\n",
      "The number of processed videos: 90\n",
      "Year: 2010\n",
      "The number of processed videos: 0\n",
      "The number of processed videos: 10\n",
      "The number of processed videos: 20\n",
      "The number of processed videos: 30\n",
      "The number of processed videos: 40\n",
      "The number of processed videos: 50\n",
      "The number of processed videos: 60\n",
      "The number of processed videos: 70\n",
      "The number of processed videos: 80\n",
      "The number of processed videos: 90\n",
      "Year: 2011\n",
      "The number of processed videos: 0\n",
      "The number of processed videos: 10\n",
      "The number of processed videos: 20\n",
      "The number of processed videos: 30\n",
      "The number of processed videos: 40\n",
      "The number of processed videos: 50\n",
      "The number of processed videos: 60\n",
      "The number of processed videos: 70\n",
      "The number of processed videos: 80\n",
      "The number of processed videos: 90\n",
      "Year: 2012\n",
      "The number of processed videos: 0\n",
      "The number of processed videos: 10\n",
      "The number of processed videos: 20\n",
      "The number of processed videos: 30\n",
      "The number of processed videos: 40\n",
      "The number of processed videos: 50\n",
      "The number of processed videos: 60\n",
      "The number of processed videos: 70\n",
      "The number of processed videos: 80\n",
      "The number of processed videos: 90\n",
      "Year: 2013\n",
      "The number of processed videos: 0\n",
      "The number of processed videos: 10\n",
      "The number of processed videos: 20\n",
      "The number of processed videos: 30\n",
      "The number of processed videos: 40\n",
      "The number of processed videos: 50\n",
      "The number of processed videos: 60\n",
      "The number of processed videos: 70\n",
      "The number of processed videos: 80\n",
      "The number of processed videos: 90\n",
      "Year: 2014\n",
      "The number of processed videos: 0\n",
      "The number of processed videos: 10\n",
      "The number of processed videos: 20\n",
      "The number of processed videos: 30\n",
      "The number of processed videos: 40\n",
      "The number of processed videos: 50\n",
      "The number of processed videos: 60\n",
      "The number of processed videos: 70\n",
      "The number of processed videos: 80\n",
      "The number of processed videos: 90\n",
      "Year: 2015\n",
      "The number of processed videos: 0\n",
      "The number of processed videos: 10\n",
      "The number of processed videos: 20\n",
      "The number of processed videos: 30\n",
      "The number of processed videos: 40\n",
      "The number of processed videos: 50\n",
      "The number of processed videos: 60\n",
      "The number of processed videos: 70\n",
      "The number of processed videos: 80\n",
      "The number of processed videos: 90\n",
      "Year: 2016\n",
      "The number of processed videos: 0\n",
      "The number of processed videos: 10\n",
      "The number of processed videos: 20\n",
      "The number of processed videos: 30\n",
      "The number of processed videos: 40\n",
      "The number of processed videos: 50\n",
      "The number of processed videos: 60\n",
      "The number of processed videos: 70\n",
      "The number of processed videos: 80\n",
      "The number of processed videos: 90\n",
      "Year: 2017\n",
      "The number of processed videos: 0\n",
      "The number of processed videos: 10\n",
      "The number of processed videos: 20\n",
      "The number of processed videos: 30\n",
      "The number of processed videos: 40\n",
      "The number of processed videos: 50\n",
      "The number of processed videos: 60\n",
      "The number of processed videos: 70\n",
      "The number of processed videos: 80\n",
      "The number of processed videos: 90\n"
     ]
    }
   ],
   "source": [
    "track_details = {}\n",
    "for year, track_list in tracks.items():\n",
    "    print('Year:', year)\n",
    "    for i, track in enumerate(track_list):\n",
    "        if i % 10 == 0:\n",
    "            print('The number of processed videos:', i)\n",
    "        \n",
    "        youtube=find_video_clip(track)\n",
    "        if youtube is None:\n",
    "            youtube_id=None\n",
    "        else:\n",
    "            youtube_id=youtube.split('/watch?v=')[-1]\n",
    "            \n",
    "        track_details[track] = dict(\n",
    "            year=year,\n",
    "            name=track,\n",
    "            youtube=youtube,\n",
    "            youtube_id=youtube_id\n",
    "        )"
   ]
  },
  {
   "cell_type": "markdown",
   "metadata": {},
   "source": [
    "Сохраняем промежуточный результат"
   ]
  },
  {
   "cell_type": "code",
   "execution_count": 280,
   "metadata": {},
   "outputs": [],
   "source": [
    "with open('track_details.json', 'w') as json_file:\n",
    "    json.dump(track_details, json_file, indent=4)"
   ]
  },
  {
   "cell_type": "code",
   "execution_count": 271,
   "metadata": {},
   "outputs": [],
   "source": [
    "def download_audio_from_youtube(youtube_urls):\n",
    "    if not youtube_urls:\n",
    "        return\n",
    "    \n",
    "    ydl_opts = {\n",
    "    'format': 'bestaudio/best',\n",
    "    'postprocessors': [{\n",
    "        'key': 'FFmpegExtractAudio',\n",
    "        'preferredcodec': 'mp3',\n",
    "        'preferredquality': '192',\n",
    "    }],\n",
    "    }\n",
    "    with youtube_dl.YoutubeDL(ydl_opts) as ydl:\n",
    "        ydl.download(youtube_urls)"
   ]
  },
  {
   "cell_type": "code",
   "execution_count": 281,
   "metadata": {},
   "outputs": [],
   "source": [
    "youtube_urls = [track['youtube'] for track in track_details.values() if track['youtube']]\n",
    "download_audio_from_youtube(youtube_urls)"
   ]
  },
  {
   "cell_type": "code",
   "execution_count": null,
   "metadata": {},
   "outputs": [],
   "source": []
  }
 ],
 "metadata": {
  "kernelspec": {
   "display_name": "Python 3",
   "language": "python",
   "name": "python3"
  },
  "language_info": {
   "codemirror_mode": {
    "name": "ipython",
    "version": 3
   },
   "file_extension": ".py",
   "mimetype": "text/x-python",
   "name": "python",
   "nbconvert_exporter": "python",
   "pygments_lexer": "ipython3",
   "version": "3.6.3"
  }
 },
 "nbformat": 4,
 "nbformat_minor": 2
}
